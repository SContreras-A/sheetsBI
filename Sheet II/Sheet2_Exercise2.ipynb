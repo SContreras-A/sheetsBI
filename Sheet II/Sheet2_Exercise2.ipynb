{
 "cells": [
  {
   "cell_type": "markdown",
   "id": "c88f4f37-f886-4417-87ca-bcd69f446d4e",
   "metadata": {},
   "source": [
    "_*<h1>EXERCISE 2</h1>*_"
   ]
  },
  {
   "cell_type": "markdown",
   "id": "3fc3f1db-b1ef-43fd-b33b-a58889aa4168",
   "metadata": {},
   "source": [
    "_*<h2>Part 1</h2>*_"
   ]
  },
  {
   "cell_type": "code",
   "execution_count": 22,
   "id": "f56c7038-78d0-4136-9626-d792f4e3d1e2",
   "metadata": {},
   "outputs": [
    {
     "name": "stdout",
     "output_type": "stream",
     "text": [
      "Mean: [2.6666666666666665, 5.333333333333333, 6.0]\n",
      "Covariance Matrix: [[2.3333333333333335, -4.333333333333333, 1.0], [-4.333333333333333, 9.333333333333334, -1.0], [1.0, -1.0, 1.0]]\n",
      "Correlation Matrix: [[1.0, -0.9285714285714285, 0.6546536707079771], [-0.9285714285714285, 1.0, -0.32732683535398854], [0.6546536707079771, -0.32732683535398854, 1.0]]\n"
     ]
    }
   ],
   "source": [
    "def getStats(A):\n",
    "    rows, columns = len(A), len(A[0])  \n",
    "\n",
    "# Sample Mean\n",
    "    mean = [sum(A[i][j] for i in range(rows)) / rows for j in range(columns)]\n",
    "    \n",
    "# Sample Covariance Matrix\n",
    "    covariance = [[0] * columns for _ in range(columns)]\n",
    "    for i in range(columns):\n",
    "        for j in range(columns):    \n",
    "            cov_ij = sum((A[k][i] - mean[i]) * (A[k][j] - mean[j]) for k in range(rows)) / (rows - 1)\n",
    "            covariance[i][j] = cov_ij\n",
    "    \n",
    "# Correlation Matrix\n",
    "    std_dev = [covariance[i][i] ** 0.5 for i in range(columns)]  \n",
    "    correlation = [[0] * columns for _ in range(columns)]\n",
    "    for i in range(columns):\n",
    "        for j in range(columns):\n",
    "            if std_dev[i] != 0 and std_dev[j] != 0:\n",
    "                correlation[i][j] = covariance[i][j] / (std_dev[i] * std_dev[j])\n",
    "            else:\n",
    "                correlation[i][j] = 0\n",
    "    \n",
    "    return mean, covariance, correlation\n",
    "\n",
    "\n",
    "A = [[1, 8], [4, 2], [3, 6]]\n",
    "mean, covariance, correlation = getStats(A)\n",
    "\n",
    "print(\"Mean:\", mean)\n",
    "print(\"Covariance Matrix:\", covariance)\n",
    "print(\"Correlation Matrix:\", correlation)"
   ]
  },
  {
   "cell_type": "markdown",
   "id": "2582a816-d8e7-4239-b898-bee617928706",
   "metadata": {},
   "source": [
    "_*<h2>Part 2</h2>*_"
   ]
  },
  {
   "cell_type": "raw",
   "id": "81abad42-0959-4d61-9bda-6e167b15898f",
   "metadata": {},
   "source": [
    "Un vector bidimensional (x,y) define la pendiente de una función lineal que pasa por el punto origen (0,0) y el punto (x,y) indicado por el vector. La pendiente de esta línea se determina como el cociente de la componente y entre la componente x del vector. dándonos la siguiente formula para encontrar la pendiente: Pendiente = (y/x)."
   ]
  }
 ],
 "metadata": {
  "kernelspec": {
   "display_name": "Python 3 (ipykernel)",
   "language": "python",
   "name": "python3"
  },
  "language_info": {
   "codemirror_mode": {
    "name": "ipython",
    "version": 3
   },
   "file_extension": ".py",
   "mimetype": "text/x-python",
   "name": "python",
   "nbconvert_exporter": "python",
   "pygments_lexer": "ipython3",
   "version": "3.12.4"
  }
 },
 "nbformat": 4,
 "nbformat_minor": 5
}
